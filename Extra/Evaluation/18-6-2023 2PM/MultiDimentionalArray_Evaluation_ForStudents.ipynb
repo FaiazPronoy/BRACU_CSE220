{
  "nbformat": 4,
  "nbformat_minor": 0,
  "metadata": {
    "colab": {
      "provenance": []
    },
    "kernelspec": {
      "name": "python3",
      "display_name": "Python 3"
    },
    "language_info": {
      "name": "python"
    }
  },
  "cells": [
    {
      "cell_type": "markdown",
      "source": [
        "**INSTRUCTIONS FOR STUDENTS:**\n",
        "\n",
        "*   YOU CANNOT USE ANY BUILT-IN FUNCTION EXCEPT len() IN PYTHON. [negative indexing, append is prohibited]\n",
        "*   YOUR CODE SHOULD WORK FOR ANY 2D ARRAYS.\n",
        "*   YOU CANNOT USE ANY OTHER PYTHON COLLECTIONS EXCEPT NUMPY ARRAY (TUPLE, DICTIONARIES ETC. NOT ALLOWED)\n",
        "*   CREATE A COPY OF THIS IPYNB FILE IN YOUR DRIVE FIRST AS CHANGES IN THE GIVEN IPYNB FILE WILL NOT BE SAVED."
      ],
      "metadata": {
        "id": "kBcoGkNL5uGQ"
      }
    },
    {
      "cell_type": "code",
      "source": [
        "#You must run this cell to print matrix and for the driver code to work\n",
        "def print_matrix(m):\n",
        "  row,col = m.shape\n",
        "  print('-'*(col*6)+'-')\n",
        "  for i in range(row):\n",
        "    c = 1\n",
        "    print('|', end='')\n",
        "    for j in range(col):\n",
        "      c += 1\n",
        "      if(len(str(m[i][j])) == 1):\n",
        "        print(' ',m[i][j], end = '  |')\n",
        "        c += 6\n",
        "      else:\n",
        "        print(' ',m[i][j], end = ' |')\n",
        "        c += 6\n",
        "    print()\n",
        "    print('-'*(c-col))"
      ],
      "metadata": {
        "id": "Zwl8SrHKqMm4"
      },
      "execution_count": null,
      "outputs": []
    },
    {
      "cell_type": "markdown",
      "source": [
        "**Game Arena**"
      ],
      "metadata": {
        "id": "10gjQgIPqpBh"
      }
    },
    {
      "cell_type": "code",
      "source": [
        "import numpy as np\n",
        "\n",
        "#Do not change the return statement or the parameters of the gainPoints function..\n",
        "\n",
        "def gainPoints(arr):\n",
        "  #TO DO\n",
        "  return gained_points\n",
        "\n",
        "\n",
        "#DRIVER CODE\n",
        "#DO NOT CHANGE THE CODE BELOW\n",
        "\n",
        "print(\"=============== Game 1 ===============\")\n",
        "game_arena = np.array([[0, 2, 2, 0],\n",
        "                      [50, 1, 2, 0],\n",
        "                      [2, 2, 2, 0],\n",
        "                      [1, 100, 2, 0]])\n",
        "\n",
        "print_matrix(game_arena)\n",
        "points = gainPoints(game_arena)                                 #should return 6\n",
        "if points>=10:\n",
        "  print(f'Points Gained: {points}. Your team has survived the game.')\n",
        "else:\n",
        "  print(f'Points Gained: {points}. Your team is out.')\n",
        "\n",
        "print()\n",
        "print(\"=============== Game 2 ===============\")\n",
        "game_arena = np.array([[0, 2, 2, 0, 2],\n",
        "                        [1, 50, 2, 1, 100],\n",
        "                        [2, 2, 2, 0, 2],\n",
        "                        [0, 200, 2, 0, 0]])\n",
        "\n",
        "print_matrix(game_arena)\n",
        "points = gainPoints(game_arena)                                 #should return 14\n",
        "if points>=10:\n",
        "  print(f'Points Gained: {points}. Your team has survived the game.')\n",
        "else:\n",
        "  print(f'Points Gained: {points}. Your team is out.')"
      ],
      "metadata": {
        "id": "UUpU5mvl0xTr"
      },
      "execution_count": null,
      "outputs": []
    }
  ]
}