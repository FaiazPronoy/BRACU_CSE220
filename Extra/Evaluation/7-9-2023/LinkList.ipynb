{
  "nbformat": 4,
  "nbformat_minor": 0,
  "metadata": {
    "colab": {
      "provenance": []
    },
    "kernelspec": {
      "name": "python3",
      "display_name": "Python 3"
    },
    "language_info": {
      "name": "python"
    }
  },
  "cells": [
    {
      "cell_type": "code",
      "source": [
        "import numpy as np"
      ],
      "metadata": {
        "id": "TqCdrFowHRwD"
      },
      "execution_count": null,
      "outputs": []
    },
    {
      "cell_type": "code",
      "source": [
        "# Node class for linked list nodes\n",
        "class Node:\n",
        "  def __init__(self, elem, next=None):\n",
        "    self.elem = elem\n",
        "    self.next = next\n",
        "\n",
        "# Linked list operations\n",
        "def createList(arr):\n",
        "  head = Node(arr[0])\n",
        "  tail = head\n",
        "  for i in range(1,len(arr)):\n",
        "    newNode = Node(arr[i])\n",
        "    tail.next = newNode\n",
        "    tail = newNode\n",
        "  return head\n",
        "\n",
        "def printLinkedList(head):\n",
        "  temp = head\n",
        "  while temp != None:\n",
        "    if temp.next != None:\n",
        "      print(temp.elem, end = '-->')\n",
        "    else:\n",
        "      print(temp.elem)\n",
        "    temp = temp.next\n",
        "  print()\n"
      ],
      "metadata": {
        "id": "Uk7A-VqzHSOQ"
      },
      "execution_count": null,
      "outputs": []
    },
    {
      "cell_type": "markdown",
      "source": [
        "# **Add Two Numbers**\n",
        "\n",
        "You are given two non-empty linked lists representing two non-negative integers. The digits are stored in reverse order, and each of their nodes contains a single digit. Add the two numbers and return the sum as a linked list in reverse order.\n",
        "\n",
        "You may assume the two numbers do not contain any leading zero, except the number 0 itself.\n"
      ],
      "metadata": {
        "id": "_VMr-KL2J-xX"
      }
    },
    {
      "cell_type": "code",
      "source": [
        "# You need to write your code here\n",
        "def add_two_number(head1, head2):\n",
        "\n",
        "\n",
        "  return head"
      ],
      "metadata": {
        "id": "N85iB3HSHVgf"
      },
      "execution_count": null,
      "outputs": []
    },
    {
      "cell_type": "markdown",
      "source": [
        "**This is the driver code. You should not change anything here.**\n",
        "\n"
      ],
      "metadata": {
        "id": "juCb6hF-KAQE"
      }
    },
    {
      "cell_type": "code",
      "source": [
        "# Testing Your code\n",
        "\n",
        "l1 = createList(np.array([2, 4, 3]))\n",
        "l2 = createList(np.array([5, 6, 4]))\n",
        "added_list = add_two_number(l1, l2)\n",
        "printLinkedList(added_list)  # This should print 7 → 0 → 8\n",
        "\n",
        "l1 = createList(np.array([0]))\n",
        "l2 = createList(np.array([0]))\n",
        "added_list = add_two_number(l1, l2)\n",
        "printLinkedList(added_list)  # This should print 0\n",
        "\n",
        "l1 = createList(np.array([9, 9, 9, 9, 9, 9, 9]))\n",
        "l2 = createList(np.array([9, 9, 9, 9]))\n",
        "added_list = add_two_number(l1, l2)\n",
        "printLinkedList(added_list)  # This should print 8 → 9 → 9 → 9 → 0 → 0 → 0 → 1"
      ],
      "metadata": {
        "id": "WexVEAObHbpY"
      },
      "execution_count": null,
      "outputs": []
    }
  ]
}