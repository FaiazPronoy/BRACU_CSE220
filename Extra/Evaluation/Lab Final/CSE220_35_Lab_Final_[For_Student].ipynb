{
  "nbformat": 4,
  "nbformat_minor": 0,
  "metadata": {
    "colab": {
      "provenance": []
    },
    "kernelspec": {
      "name": "python3",
      "display_name": "Python 3"
    },
    "language_info": {
      "name": "python"
    }
  },
  "cells": [
    {
      "cell_type": "code",
      "execution_count": null,
      "metadata": {
        "id": "UCAMfNKD-Ukw"
      },
      "outputs": [],
      "source": [
        "class TreeNode:\n",
        "    def __init__(self, val):\n",
        "        self.val = val\n",
        "        self.left = None\n",
        "        self.right = None\n",
        "\n",
        "def find_nodes_at_distance_k(root, k, nodes_at_k):\n",
        "    # Complete this method\n",
        "    # You can use list append only in this function\n",
        "    pass\n",
        "\n",
        "def hash_function(elem, size):\n",
        "    # Complete this method\n",
        "    pass\n",
        "\n",
        "def ht_insert(value, ht):\n",
        "# complete this method\n",
        "  pass\n",
        "\n",
        "def create_hash_table(node_at_k, h_table):\n",
        "  for i in node_at_k:\n",
        "    ht_insert(i, h_table)\n",
        "  return h_table"
      ]
    },
    {
      "cell_type": "code",
      "source": [
        "#Driver Code\n",
        "root = TreeNode(\"Robb\")\n",
        "root.left = TreeNode(\"Locke\")\n",
        "root.right = TreeNode(\"Norrey\")\n",
        "root.left.left = TreeNode(\"Umber\")\n",
        "root.left.right = TreeNode(\"Mormont\")\n",
        "root.right.left = TreeNode(\"Catelyn\")\n",
        "root.right.right = TreeNode(\"Talisa\")\n",
        "\n",
        "k = 2\n",
        "nodes_at_k = []\n",
        "nodes_at_k = find_nodes_at_distance_k(root, k, nodes_at_k)\n",
        "print(\"Nodes at distance\", k, \"from root:\", nodes_at_k)\n",
        "# This should print: Nodes at distance 2 from root: ['Umber', 'Mormont', 'Catelyn', 'Talisa']\n",
        "\n",
        "hash_size = 4\n",
        "h_table = [None] * hash_size\n",
        "hash_table = create_hash_table(nodes_at_k, h_table)\n",
        "print(\"Hash table:\", hash_table)\n",
        "# This should print: Hash table: ['Mormont', 'Catelyn', 'Talisa', 'Umber']"
      ],
      "metadata": {
        "id": "57b54iLv-wdJ"
      },
      "execution_count": null,
      "outputs": []
    }
  ]
}